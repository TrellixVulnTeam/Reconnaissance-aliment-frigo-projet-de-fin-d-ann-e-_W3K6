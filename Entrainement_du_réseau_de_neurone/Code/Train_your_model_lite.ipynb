{
  "nbformat": 4,
  "nbformat_minor": 0,
  "metadata": {
    "colab": {
      "name": "Train_your_model_lite_version.ipynb",
      "private_outputs": true,
      "provenance": [],
      "collapsed_sections": []
    },
    "kernelspec": {
      "name": "python3",
      "display_name": "Python 3"
    },
    "accelerator": "GPU"
  },
  "cells": [
    {
      "cell_type": "code",
      "metadata": {
        "id": "LJZRcEw0LoBd"
      },
      "source": [
        "# This cell imports the drive library and mounts your Google Drive as a VM local drive. You can access to your Drive files \n",
        "# using this path \"/content/gdrive/My Drive/\"\n",
        "\n",
        "from google.colab import drive\n",
        "drive.mount('/content/gdrive') # ,force_remount=True"
      ],
      "execution_count": null,
      "outputs": []
    },
    {
      "cell_type": "code",
      "metadata": {
        "id": "DrdyBxyZvLpM"
      },
      "source": [
        "# Not Necessary cell\n",
        "# List the content of your local computer folder \n",
        "!ls -1t \"/content/gdrive/My Drive/darknet/data\""
      ],
      "execution_count": null,
      "outputs": []
    },
    {
      "cell_type": "code",
      "metadata": {
        "id": "Qy0EjUq0TUpm"
      },
      "source": [
        "#Rajout d'un préfixe\r\n",
        "!sed -e 's/.*/client&/' \"/content/gdrive/My Drive/darknet/data/yahourt.txt\" > \"/content/gdrive/My Drive/darknet/data/newFich.txt\"\r\n",
        "\r\n",
        "#"
      ],
      "execution_count": null,
      "outputs": []
    },
    {
      "cell_type": "markdown",
      "metadata": {
        "id": "UXi9S5XAIP3A"
      },
      "source": [
        "## STEP 4-A. Cloning and compiling Darkent. ONLY NEEDS TO BE RUN ON THE FIRST EXECUTION!!\n",
        "In this step we'll clone the darkent repo and compile it. \n",
        "* Clone Repo\n",
        "* Compile Darknet\n",
        "* Copy compiled version to Drive\n",
        "\n",
        "When compiling ends, your output last line has to be something like this:\n",
        "\n",
        "_`g++ -std=c++11 -Iinclude/ -I3rdparty/stb/include -DOPENCV `pkg-config --cflags opencv` -DGPU (...)_`"
      ]
    },
    {
      "cell_type": "code",
      "metadata": {
        "id": "Pt0Y06QTNyZG"
      },
      "source": [
        "# Leave this code uncommented on the very first run of your notebook or if you ever need to recompile darknet again.\n",
        "# Comment this code on the future runs.\n",
        "!git clone https://github.com/kriyeng/darknet/\n",
        "%cd darknet\n",
        "\n",
        "# Check the folder\n",
        "!ls\n",
        "\n",
        "# I have a branch where I have done the changes commented above\n",
        "!git checkout feature/google-colab\n",
        "\n",
        "#Compile Darknet\n",
        "!make\n",
        "\n",
        "#Copies the Darknet compiled version to Google drive\n",
        "!cp ./darknet /content/gdrive/My\\ Drive/darknet/bin/darknet"
      ],
      "execution_count": null,
      "outputs": []
    },
    {
      "cell_type": "markdown",
      "metadata": {
        "id": "rrVEej6lIHTI"
      },
      "source": [
        "## STEP 4-B. Copying the compiled version of Darknet from Drive. UNCOMMENT AFTER FIRST EXECUTION\n",
        "Copy the darknet compiled version from drive to the VM.\n",
        "* Make the local darknet folder\n",
        "* Copy the darknet file\n",
        "* Set execution permissions"
      ]
    },
    {
      "cell_type": "code",
      "metadata": {
        "id": "jAN2TNZ007c_"
      },
      "source": [
        "# Uncomment after the first run, when you have a copy of compiled darkent in your Google Drive\n",
        "\n",
        "# Makes a dir for darknet and move there\n",
        "!mkdir darknet\n",
        "%cd darknet\n",
        "\n",
        "# Copy the Darkent compiled version to the VM local drive\n",
        "!cp /content/gdrive/My\\ Drive/darknet/bin/darknet ./darknet\n",
        "\n",
        "# Set execution permissions to Darknet\n",
        "!chmod +x ./darknet\n"
      ],
      "execution_count": null,
      "outputs": []
    },
    {
      "cell_type": "markdown",
      "metadata": {
        "id": "fH7QRxBUOPiz"
      },
      "source": [
        "## STEP 5. Runtime configuration finished!\n",
        "Let's chek it out!\n",
        "\n",
        "If you are running this notebook for the first time, you can run the following cells in order to check if everything goes as expected!\n",
        "\n",
        "\n"
      ]
    },
    {
      "cell_type": "markdown",
      "metadata": {
        "id": "CD378FjcrurC"
      },
      "source": [
        "## Some Utils\n",
        "Let's add some utils that maybe can be useful.\n",
        "\n",
        "These utils are:\n",
        "* imgShow() - Will help us to show an image in the remote VM\n",
        "* download() - Will allow you to get some file from your notebook in case you need to\n",
        "* upload() - You can upload files to your current folder on the remote VM.\n",
        "\n",
        "Thanks to [Ivan Goncharov](https://twitter.com/Ivangrov) for these helpers!"
      ]
    },
    {
      "cell_type": "code",
      "metadata": {
        "id": "WD5FBWmjrsks"
      },
      "source": [
        "#download files\n",
        "def imShow(path):\n",
        "  import cv2\n",
        "  import matplotlib.pyplot as plt\n",
        "  %matplotlib inline\n",
        "\n",
        "  image = cv2.imread(path)\n",
        "  height, width = image.shape[:2]\n",
        "  resized_image = cv2.resize(image,(3*width, 3*height), interpolation = cv2.INTER_CUBIC)\n",
        "\n",
        "  fig = plt.gcf()\n",
        "  fig.set_size_inches(18, 10)\n",
        "  plt.axis(\"off\")\n",
        "  #plt.rcParams['figure.figsize'] = [10, 5]\n",
        "  plt.imshow(cv2.cvtColor(resized_image, cv2.COLOR_BGR2RGB))\n",
        "  plt.show()\n",
        "  \n",
        "  \n",
        "def upload():\n",
        "  from google.colab import files\n",
        "  uploaded = files.upload() \n",
        "  for name, data in uploaded.items():\n",
        "    with open(name, 'wb') as f:\n",
        "      f.write(data)\n",
        "      print ('saved file', name)\n",
        "def download(path):\n",
        "  from google.colab import files\n",
        "  files.download(path)"
      ],
      "execution_count": null,
      "outputs": []
    },
    {
      "cell_type": "code",
      "metadata": {
        "id": "eCou8imNOTTN"
      },
      "source": [
        "# Not necessary cell\n",
        "# Get yolov3 weights\n",
        "!wget https://pjreddie.com/media/files/yolov3.weights"
      ],
      "execution_count": null,
      "outputs": []
    },
    {
      "cell_type": "markdown",
      "metadata": {
        "id": "JvySKrnh2cvG"
      },
      "source": [
        "**NOTE:** The following test only will work when the darknet is compiled in the runtime. This demo uses some data from the original darknet folders. For your Object detection projects, you'll have these necessary files on your local folder."
      ]
    },
    {
      "cell_type": "code",
      "metadata": {
        "id": "op1iEE3bOVR6"
      },
      "source": [
        "# Not necessary cell\n",
        "# Execute darknet using YOLOv3 model with pre-trained weights to detect objects on 'person.jpg'\n",
        "!./darknet detect cfg/yolov3.cfg yolov3.weights data/person.jpg -dont-show\n",
        "\n",
        "# Show the result using the helper imgShow()\n",
        "imShow('predictions.jpg')"
      ],
      "execution_count": null,
      "outputs": []
    },
    {
      "cell_type": "code",
      "metadata": {
        "id": "KQjODqIAS-er"
      },
      "source": [
        "# don't go beyond here with Run All\n",
        "#assert False"
      ],
      "execution_count": null,
      "outputs": []
    },
    {
      "cell_type": "markdown",
      "metadata": {
        "id": "6_4747QHIGZ7"
      },
      "source": [
        "## PART 3. Finally, Train\n",
        "\n"
      ]
    },
    {
      "cell_type": "code",
      "metadata": {
        "id": "AtfxZxKR82Jv"
      },
      "source": [
        "#!chmod 777 \"/content/gdrive/My Drive/darknet/cfg/yolov3-tiny-obj.cfg\"\r\n",
        "!cp -r \"/content/gdrive/My Drive/darknet/data\" ./\r\n",
        "#!cp -r \"/content/gdrive/My Drive/darknet/cfg\" ./\r\n"
      ],
      "execution_count": null,
      "outputs": []
    },
    {
      "cell_type": "code",
      "metadata": {
        "id": "eyg-gIzI84q5"
      },
      "source": [
        "!ls -la \"/content/gdrive/My Drive/darknet/data/obj/Tomato\" \r\n",
        "#/content/gdrive/My Drive/darknet/data/obj/Tomato/vegetables-1085063_640.jpg\r\n",
        "\r\n",
        "#data/obj/Milk/laitfrigo5.jpg\r\n",
        "#data/obj/Milk/irl1.jpg\r\n",
        "#data/obj/Tomato/tomatotest1.jpg"
      ],
      "execution_count": null,
      "outputs": []
    },
    {
      "cell_type": "code",
      "metadata": {
        "id": "VG7OrCdE9Ily"
      },
      "source": [
        "# Not necessary cell\n",
        "!./darknet detect \"/content/gdrive/My Drive/darknet/data/obj.data\" \"/content/gdrive/My Drive/darknet/cfg/yolov3-tiny-obj.cfg\" \"/content/gdrive/My Drive/darknet/backup/yolov3-tiny-obj_6000.weights\" \"/content/gdrive/My Drive/darknet/data/obj/Milk/laitfrigo1.jpg\" -dont-show\n",
        "\n",
        "# Show the result using the helper imgShow()\n",
        "imShow('predictions.jpg')"
      ],
      "execution_count": null,
      "outputs": []
    },
    {
      "cell_type": "code",
      "metadata": {
        "id": "axFyt7h-djAV"
      },
      "source": [
        "#recuperation du backup virtuel\r\n",
        "!cp -r backup \"/content/gdrive/My Drive/darknet/backup\" "
      ],
      "execution_count": null,
      "outputs": []
    },
    {
      "cell_type": "code",
      "metadata": {
        "id": "13fRzkiQiPhW"
      },
      "source": [
        "# Test du réseau de neuronne\r\n",
        "!./darknet detector test \"/content/gdrive/My Drive/darknet/data/obj.data\" \"/content/gdrive/My Drive/darknet/cfg/yolov3-tiny-obj.cfg\" \"/content/gdrive/My Drive/darknet/backup/yolov3-tiny-obj_6000.weights\" -dont_show \r\n",
        "imShow('predictions.jpg')"
      ],
      "execution_count": null,
      "outputs": []
    },
    {
      "cell_type": "code",
      "metadata": {
        "id": "mW-naqhCY44r"
      },
      "source": [
        "# Entrainement du réseau de neuronne\r\n",
        "!./darknet detector train \"/content/gdrive/My Drive/darknet/data/obj.data\" \"/content/gdrive/My Drive/darknet/cfg/yolov3-tiny-obj.cfg\" \"/content/gdrive/My Drive/darknet/yolov3-tiny.conv.15\" -dont_show "
      ],
      "execution_count": null,
      "outputs": []
    },
    {
      "cell_type": "markdown",
      "metadata": {
        "id": "0oWYkXA0LtCQ"
      },
      "source": [
        "## PERFORMANCE TIPS & TRICKS\n",
        "\n",
        "* **Speed up load times of the runtime:** When everything is checked that works, you can remove cells or comment unnecessary lines of code to make your loading time lower on every run. \n",
        "\n",
        "* **How to keep your notebook alive for more time?:** Keep you browser with your notebook open. If you close your browser, your notebook will reach the iddle time and will be removed from Colab cloud Service. (90 minutes)\n",
        "  "
      ]
    },
    {
      "cell_type": "code",
      "metadata": {
        "id": "josdFFdVMyj3"
      },
      "source": [
        "# Start training at the point where the last runtime finished\n",
        "!./darknet detector train \"/content/gdrive/My Drive/darknet/data/obj.data\" \"/content/gdrive/My Drive/darknet/cfg/yolov3-tiny-obj.cfg\" \"/content/gdrive/My Drive/darknet/weights/yolov_last.weights\" -dont_show "
      ],
      "execution_count": null,
      "outputs": []
    }
  ]
}